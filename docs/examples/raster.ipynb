{
 "cells": [
  {
   "cell_type": "code",
   "execution_count": 1,
   "metadata": {},
   "outputs": [],
   "source": [
    "import leafagro"
   ]
  },
  {
   "cell_type": "code",
   "execution_count": 2,
   "metadata": {},
   "outputs": [
    {
     "data": {
      "text/plain": [
       "'0.0.4'"
      ]
     },
     "execution_count": 2,
     "metadata": {},
     "output_type": "execute_result"
    }
   ],
   "source": [
    "leafagro.__version__"
   ]
  },
  {
   "cell_type": "code",
   "execution_count": 3,
   "metadata": {},
   "outputs": [
    {
     "name": "stderr",
     "output_type": "stream",
     "text": [
      "c:\\Users\\ibnha\\miniconda3\\envs\\Agro\\Lib\\site-packages\\rio_tiler\\io\\rasterio.py:130: NoOverviewWarning: The dataset has no Overviews. rio-tiler performances might be impacted.\n",
      "  warnings.warn(\n"
     ]
    },
    {
     "data": {
      "application/vnd.jupyter.widget-view+json": {
       "model_id": "7abfad458c28442e86fd26cab0e98c21",
       "version_major": 2,
       "version_minor": 0
      },
      "text/plain": [
       "Map(center=[21.2405645, 81.0533565], controls=(ZoomControl(options=['position', 'zoom_in_text', 'zoom_in_title…"
      ]
     },
     "execution_count": 3,
     "metadata": {},
     "output_type": "execute_result"
    },
    {
     "name": "stderr",
     "output_type": "stream",
     "text": [
      "c:\\Users\\ibnha\\miniconda3\\envs\\Agro\\Lib\\site-packages\\rio_tiler\\reader.py:232: NodataShadowWarning: The dataset's nodata attribute is shadowing the alpha band. All masks will be determined by the nodata attribute\n",
      "  data = dataset.read(\n",
      "c:\\Users\\ibnha\\miniconda3\\envs\\Agro\\Lib\\site-packages\\rio_tiler\\io\\rasterio.py:130: NoOverviewWarning: The dataset has no Overviews. rio-tiler performances might be impacted.\n",
      "  warnings.warn(\n",
      "c:\\Users\\ibnha\\miniconda3\\envs\\Agro\\Lib\\site-packages\\rio_tiler\\reader.py:232: NodataShadowWarning: The dataset's nodata attribute is shadowing the alpha band. All masks will be determined by the nodata attribute\n",
      "  data = dataset.read(\n",
      "c:\\Users\\ibnha\\miniconda3\\envs\\Agro\\Lib\\site-packages\\rio_tiler\\io\\rasterio.py:130: NoOverviewWarning: The dataset has no Overviews. rio-tiler performances might be impacted.\n",
      "  warnings.warn(\n",
      "c:\\Users\\ibnha\\miniconda3\\envs\\Agro\\Lib\\site-packages\\rio_tiler\\io\\rasterio.py:130: NoOverviewWarning: The dataset has no Overviews. rio-tiler performances might be impacted.\n",
      "  warnings.warn(\n",
      "c:\\Users\\ibnha\\miniconda3\\envs\\Agro\\Lib\\site-packages\\rio_tiler\\reader.py:232: NodataShadowWarning: The dataset's nodata attribute is shadowing the alpha band. All masks will be determined by the nodata attribute\n",
      "  data = dataset.read(\n",
      "c:\\Users\\ibnha\\miniconda3\\envs\\Agro\\Lib\\site-packages\\rio_tiler\\reader.py:232: NodataShadowWarning: The dataset's nodata attribute is shadowing the alpha band. All masks will be determined by the nodata attribute\n",
      "  data = dataset.read(\n",
      "c:\\Users\\ibnha\\miniconda3\\envs\\Agro\\Lib\\site-packages\\rio_tiler\\io\\rasterio.py:130: NoOverviewWarning: The dataset has no Overviews. rio-tiler performances might be impacted.\n",
      "  warnings.warn(\n",
      "c:\\Users\\ibnha\\miniconda3\\envs\\Agro\\Lib\\site-packages\\rio_tiler\\io\\rasterio.py:130: NoOverviewWarning: The dataset has no Overviews. rio-tiler performances might be impacted.\n",
      "  warnings.warn(\n",
      "c:\\Users\\ibnha\\miniconda3\\envs\\Agro\\Lib\\site-packages\\rio_tiler\\reader.py:232: NodataShadowWarning: The dataset's nodata attribute is shadowing the alpha band. All masks will be determined by the nodata attribute\n",
      "  data = dataset.read(\n",
      "c:\\Users\\ibnha\\miniconda3\\envs\\Agro\\Lib\\site-packages\\rio_tiler\\io\\rasterio.py:130: NoOverviewWarning: The dataset has no Overviews. rio-tiler performances might be impacted.\n",
      "  warnings.warn(\n"
     ]
    }
   ],
   "source": [
    "m = leafagro.Map()\n",
    "m.add_raster(\"C:/Users/ibnha/Downloads/clip_ortho.tif\")\n",
    "m.add_layer_control()\n",
    "m"
   ]
  },
  {
   "cell_type": "code",
   "execution_count": null,
   "metadata": {},
   "outputs": [],
   "source": []
  }
 ],
 "metadata": {
  "kernelspec": {
   "display_name": "Agro",
   "language": "python",
   "name": "python3"
  },
  "language_info": {
   "codemirror_mode": {
    "name": "ipython",
    "version": 3
   },
   "file_extension": ".py",
   "mimetype": "text/x-python",
   "name": "python",
   "nbconvert_exporter": "python",
   "pygments_lexer": "ipython3",
   "version": "3.11.10"
  }
 },
 "nbformat": 4,
 "nbformat_minor": 2
}
