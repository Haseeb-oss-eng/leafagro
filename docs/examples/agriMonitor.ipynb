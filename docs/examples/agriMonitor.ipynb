{
 "cells": [
  {
   "cell_type": "code",
   "execution_count": 1,
   "metadata": {},
   "outputs": [],
   "source": [
    "import leafagro\n",
    "import requests"
   ]
  },
  {
   "cell_type": "code",
   "execution_count": 2,
   "metadata": {},
   "outputs": [
    {
     "name": "stdout",
     "output_type": "stream",
     "text": [
      "0.0.8\n"
     ]
    }
   ],
   "source": [
    "print(leafagro.__version__)"
   ]
  },
  {
   "cell_type": "code",
   "execution_count": 3,
   "metadata": {},
   "outputs": [],
   "source": [
    "m = leafagro.Map(center=[42.077744,-93.242726],zoom=13)"
   ]
  },
  {
   "cell_type": "code",
   "execution_count": 4,
   "metadata": {},
   "outputs": [],
   "source": [
    "# url = 'http://api.agromonitoring.com/image/1.0/1305b809c00/{PolygonId}?appid={API_Key}'\n",
    "# bound = [[[-93.242726, 42.077744], [-93.243284, 42.077728], [-93.243177, 42.077648], [-93.243241, 42.077569], [-93.246374, 42.077553], [-93.246503, 42.076167], [-93.246782, 42.075976], [-93.248627, 42.076056], [-93.248777, 42.077521], [-93.249378, 42.077617], [-93.250773, 42.077601], [-93.250902, 42.077425], [-93.250966, 42.071946], [-93.250837, 42.07037], [-93.25088, 42.068968], [-93.250258, 42.068777], [-93.249528, 42.068777], [-93.249443, 42.068315], [-93.249593, 42.068076], [-93.2494, 42.067709], [-93.249464, 42.067662], [-93.250151, 42.067694], [-93.250537, 42.067996], [-93.25088, 42.067996], [-93.250966, 42.067566], [-93.250859, 42.067423], [-93.251138, 42.067311], [-93.251138, 42.06677], [-93.250558, 42.066833], [-93.250473, 42.066674], [-93.250322, 42.066626], [-93.250043, 42.066786], [-93.250108, 42.06704], [-93.250022, 42.067104], [-93.24955, 42.06704], [-93.249743, 42.066817], [-93.249614, 42.066674], [-93.249528, 42.06626], [-93.249443, 42.066276], [-93.249421, 42.06669], [-93.249142, 42.06704], [-93.246889, 42.066929], [-93.241525, 42.066929], [-93.241289, 42.067423], [-93.241289, 42.067885], [-93.241439, 42.06806], [-93.241374, 42.069143], [-93.241138, 42.069318], [-93.241353, 42.069478], [-93.241332, 42.070354], [-93.241031, 42.070322], [-93.240666, 42.070497], [-93.24028, 42.070497], [-93.240001, 42.070736], [-93.239594, 42.070672], [-93.239336, 42.070497], [-93.236804, 42.070497], [-93.236504, 42.070593], [-93.236482, 42.077059], [-93.236589, 42.077282], [-93.23689, 42.077425], [-93.238864, 42.077457], [-93.239615, 42.077553], [-93.241739, 42.077505], [-93.242726, 42.077744]]]\n",
    "# swapped_coordinates = [[lat, lon] for lon, lat in bound[0]]"
   ]
  },
  {
   "cell_type": "code",
   "execution_count": 5,
   "metadata": {},
   "outputs": [],
   "source": [
    "# m.add_imageOverlay(url,bounds=swapped_coordinates)"
   ]
  },
  {
   "cell_type": "code",
   "execution_count": 6,
   "metadata": {},
   "outputs": [
    {
     "data": {
      "application/vnd.jupyter.widget-view+json": {
       "model_id": "ea1588c099124e1d88dea6934d9f3139",
       "version_major": 2,
       "version_minor": 0
      },
      "text/plain": [
       "Map(center=[42.077744, -93.242726], controls=(ZoomControl(options=['position', 'zoom_in_text', 'zoom_in_title'…"
      ]
     },
     "execution_count": 6,
     "metadata": {},
     "output_type": "execute_result"
    }
   ],
   "source": [
    "# m"
   ]
  }
 ],
 "metadata": {
  "kernelspec": {
   "display_name": "Agro",
   "language": "python",
   "name": "python3"
  },
  "language_info": {
   "codemirror_mode": {
    "name": "ipython",
    "version": 3
   },
   "file_extension": ".py",
   "mimetype": "text/x-python",
   "name": "python",
   "nbconvert_exporter": "python",
   "pygments_lexer": "ipython3",
   "version": "3.11.10"
  }
 },
 "nbformat": 4,
 "nbformat_minor": 2
}
