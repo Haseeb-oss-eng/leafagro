{
 "cells": [
  {
   "cell_type": "code",
   "execution_count": 1,
   "metadata": {},
   "outputs": [],
   "source": [
    "import leafagro\n",
    "import requests\n",
    "#from leafagro.agromonitoring import Agromonitoring as ag"
   ]
  },
  {
   "cell_type": "code",
   "execution_count": 2,
   "metadata": {},
   "outputs": [
    {
     "name": "stdout",
     "output_type": "stream",
     "text": [
      "0.0.9\n"
     ]
    }
   ],
   "source": [
    "print(leafagro.__version__)"
   ]
  },
  {
   "cell_type": "code",
   "execution_count": 3,
   "metadata": {},
   "outputs": [],
   "source": [
    "m = leafagro.Map(center=[42.077744,-93.242726],zoom=13)"
   ]
  },
  {
   "cell_type": "code",
   "execution_count": 4,
   "metadata": {},
   "outputs": [],
   "source": [
    "API_Key = '9af75424f7e6305fafca369ba297fc7d'\n",
    "polygonId = '66e2d24e6419597e66d664fd'\n",
    "startDate = \"2020-02-01\"\n",
    "endDate = \"2020-03-01\"\n",
    "data = \"ndvi\""
   ]
  },
  {
   "cell_type": "code",
   "execution_count": 6,
   "metadata": {},
   "outputs": [
    {
     "data": {
      "application/vnd.jupyter.widget-view+json": {
       "model_id": "11feee264f4c470aa82c4125b5f8b51e",
       "version_major": 2,
       "version_minor": 0
      },
      "text/plain": [
       "Map(center=[42.077744, -93.242726], controls=(ZoomControl(options=['position', 'zoom_in_text', 'zoom_in_title'…"
      ]
     },
     "execution_count": 6,
     "metadata": {},
     "output_type": "execute_result"
    }
   ],
   "source": [
    "tile = m.show_agromonitoring_tile(API_Key, polygonId, startDate, endDate, data,True)\n",
    "m"
   ]
  },
  {
   "cell_type": "code",
   "execution_count": 7,
   "metadata": {},
   "outputs": [],
   "source": [
    "m.add_layer_tile('http://api.agromonitoring.com/tile/1.0/{z}/{x}/{y}/0205e49d780/66e2d24e6419597e66d664fd?appid=9af75424f7e6305fafca369ba297fc7d',name =\"NDVI\")"
   ]
  },
  {
   "cell_type": "code",
   "execution_count": 8,
   "metadata": {},
   "outputs": [
    {
     "data": {
      "application/vnd.jupyter.widget-view+json": {
       "model_id": "11feee264f4c470aa82c4125b5f8b51e",
       "version_major": 2,
       "version_minor": 0
      },
      "text/plain": [
       "Map(bottom=389205.0, center=[42.06229328856301, -93.20594787597656], controls=(ZoomControl(options=['position'…"
      ]
     },
     "execution_count": 8,
     "metadata": {},
     "output_type": "execute_result"
    }
   ],
   "source": [
    "m"
   ]
  },
  {
   "cell_type": "code",
   "execution_count": null,
   "metadata": {},
   "outputs": [],
   "source": []
  }
 ],
 "metadata": {
  "kernelspec": {
   "display_name": "Agro",
   "language": "python",
   "name": "python3"
  },
  "language_info": {
   "codemirror_mode": {
    "name": "ipython",
    "version": 3
   },
   "file_extension": ".py",
   "mimetype": "text/x-python",
   "name": "python",
   "nbconvert_exporter": "python",
   "pygments_lexer": "ipython3",
   "version": "3.11.10"
  }
 },
 "nbformat": 4,
 "nbformat_minor": 2
}
