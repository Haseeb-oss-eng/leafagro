{
 "cells": [
  {
   "cell_type": "code",
   "execution_count": 1,
   "metadata": {},
   "outputs": [],
   "source": [
    "import leafagro\n",
    "import requests\n",
    "#from leafagro.agromonitoring import Agromonitoring as ag"
   ]
  },
  {
   "cell_type": "code",
   "execution_count": null,
   "metadata": {},
   "outputs": [],
   "source": [
    "print(leafagro.__version__)"
   ]
  },
  {
   "cell_type": "code",
   "execution_count": 3,
   "metadata": {},
   "outputs": [],
   "source": [
    "m = leafagro.Map(center=[42.077744,-93.242726],zoom=13)"
   ]
  },
  {
   "cell_type": "code",
   "execution_count": 4,
   "metadata": {},
   "outputs": [],
   "source": [
    "API_Key = '9af75424f7e6305fafca369ba297fc7d'\n",
    "polygonId = '66e2d24e6419597e66d664fd'\n",
    "startDate = \"2020-02-01\"\n",
    "endDate = \"2020-03-01\"\n",
    "data = \"ndvi\""
   ]
  },
  {
   "cell_type": "code",
   "execution_count": null,
   "metadata": {},
   "outputs": [],
   "source": [
    "m.show_agromonitoring_tile(API_Key, polygonId, startDate, endDate, data,False)\n",
    "m"
   ]
  },
  {
   "cell_type": "code",
   "execution_count": 6,
   "metadata": {},
   "outputs": [],
   "source": [
    "API_Key = '9af75424f7e6305fafca369ba297fc7d'\n",
    "polygonId = '66e2d24e6419597e66d664fd'\n",
    "startDate = \"2020-02-01\"\n",
    "endDate = \"2020-03-01\"\n",
    "data = \"ndvi\""
   ]
  },
  {
   "cell_type": "code",
   "execution_count": null,
   "metadata": {},
   "outputs": [],
   "source": [
    "# m.display_stats('9af75424f7e6305fafca369ba297fc7d',polygonId,startDate,endDate,data)\n",
    "# m"
   ]
  },
  {
   "cell_type": "code",
   "execution_count": null,
   "metadata": {},
   "outputs": [],
   "source": []
  }
 ],
 "metadata": {
  "kernelspec": {
   "display_name": "Agro",
   "language": "python",
   "name": "python3"
  },
  "language_info": {
   "codemirror_mode": {
    "name": "ipython",
    "version": 3
   },
   "file_extension": ".py",
   "mimetype": "text/x-python",
   "name": "python",
   "nbconvert_exporter": "python",
   "pygments_lexer": "ipython3",
   "version": "3.11.10"
  }
 },
 "nbformat": 4,
 "nbformat_minor": 2
}
