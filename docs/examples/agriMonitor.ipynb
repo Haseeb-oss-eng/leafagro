{
 "cells": [
  {
   "cell_type": "code",
   "execution_count": 1,
   "metadata": {},
   "outputs": [],
   "source": [
    "import leafagro\n",
    "import requests\n",
    "#from leafagro.agromonitoring import Agromonitoring as ag"
   ]
  },
  {
   "cell_type": "code",
   "execution_count": 2,
   "metadata": {},
   "outputs": [
    {
     "name": "stdout",
     "output_type": "stream",
     "text": [
      "0.0.10\n"
     ]
    }
   ],
   "source": [
    "print(leafagro.__version__)"
   ]
  },
  {
   "cell_type": "code",
   "execution_count": 3,
   "metadata": {},
   "outputs": [],
   "source": [
    "m = leafagro.Map(center=[42.077744,-93.242726],zoom=13)"
   ]
  },
  {
   "cell_type": "code",
   "execution_count": 4,
   "metadata": {},
   "outputs": [],
   "source": [
    "API_Key = '9af75424f7e6305fafca369ba297fc7d'\n",
    "polygonId = '66e2d24e6419597e66d664fd'\n",
    "startDate = \"2020-02-01\"\n",
    "endDate = \"2020-03-01\"\n",
    "data = \"ndvi\""
   ]
  },
  {
   "cell_type": "code",
   "execution_count": 5,
   "metadata": {},
   "outputs": [],
   "source": [
    "m.show_agromonitoring_tile(API_Key, polygonId, startDate, endDate, data,False)"
   ]
  },
  {
   "cell_type": "code",
   "execution_count": 6,
   "metadata": {},
   "outputs": [],
   "source": [
    "API_Key = '9af75424f7e6305fafca369ba297fc7d'\n",
    "polygonId = '66e2d24e6419597e66d664fd'\n",
    "startDate = \"2020-02-01\"\n",
    "endDate = \"2020-03-01\"\n",
    "data = \"ndvi\""
   ]
  },
  {
   "cell_type": "code",
   "execution_count": 7,
   "metadata": {},
   "outputs": [
    {
     "ename": "NameError",
     "evalue": "name 'API_Key' is not defined",
     "output_type": "error",
     "traceback": [
      "\u001b[1;31m---------------------------------------------------------------------------\u001b[0m",
      "\u001b[1;31mNameError\u001b[0m                                 Traceback (most recent call last)",
      "Cell \u001b[1;32mIn[7], line 1\u001b[0m\n\u001b[1;32m----> 1\u001b[0m \u001b[43mm\u001b[49m\u001b[38;5;241;43m.\u001b[39;49m\u001b[43mdisplay_stats\u001b[49m\u001b[43m(\u001b[49m\u001b[38;5;124;43m'\u001b[39;49m\u001b[38;5;124;43m9af75424f7e6305fafca369ba297fc7d\u001b[39;49m\u001b[38;5;124;43m'\u001b[39;49m\u001b[43m,\u001b[49m\u001b[43mpolygonId\u001b[49m\u001b[43m,\u001b[49m\u001b[43mstartDate\u001b[49m\u001b[43m,\u001b[49m\u001b[43mendDate\u001b[49m\u001b[43m,\u001b[49m\u001b[43mdata\u001b[49m\u001b[43m)\u001b[49m\n\u001b[0;32m      2\u001b[0m m\n",
      "File \u001b[1;32mc:\\Users\\ibnha\\miniconda3\\envs\\Agro\\Lib\\site-packages\\leafagro\\leafagro.py:375\u001b[0m, in \u001b[0;36mMap.display_stats\u001b[1;34m(self, API_key, polygonId, startDate, endDate, data)\u001b[0m\n\u001b[0;32m    373\u001b[0m \u001b[38;5;28;01mimport\u001b[39;00m \u001b[38;5;21;01mtime\u001b[39;00m\n\u001b[0;32m    374\u001b[0m \u001b[38;5;28;01mfrom\u001b[39;00m \u001b[38;5;21;01mleafagro\u001b[39;00m \u001b[38;5;28;01mimport\u001b[39;00m agromonitoring \u001b[38;5;28;01mas\u001b[39;00m ag\n\u001b[1;32m--> 375\u001b[0m polygons_url \u001b[38;5;241m=\u001b[39m \u001b[38;5;124mf\u001b[39m\u001b[38;5;124m\"\u001b[39m\u001b[38;5;124mhttp://api.agromonitoring.com/agro/1.0/polygons?appid=\u001b[39m\u001b[38;5;132;01m{\u001b[39;00m\u001b[43mAPI_Key\u001b[49m\u001b[38;5;132;01m}\u001b[39;00m\u001b[38;5;124m\"\u001b[39m\n\u001b[0;32m    377\u001b[0m \u001b[38;5;28;01mtry\u001b[39;00m:\n\u001b[0;32m    379\u001b[0m     response \u001b[38;5;241m=\u001b[39m requests\u001b[38;5;241m.\u001b[39mget(polygons_url)\n",
      "\u001b[1;31mNameError\u001b[0m: name 'API_Key' is not defined"
     ]
    }
   ],
   "source": [
    "m.display_stats(API_Key,polygonId,startDate,endDate,data)\n",
    "m"
   ]
  },
  {
   "cell_type": "code",
   "execution_count": null,
   "metadata": {},
   "outputs": [],
   "source": []
  }
 ],
 "metadata": {
  "kernelspec": {
   "display_name": "Agro",
   "language": "python",
   "name": "python3"
  },
  "language_info": {
   "codemirror_mode": {
    "name": "ipython",
    "version": 3
   },
   "file_extension": ".py",
   "mimetype": "text/x-python",
   "name": "python",
   "nbconvert_exporter": "python",
   "pygments_lexer": "ipython3",
   "version": "3.11.10"
  }
 },
 "nbformat": 4,
 "nbformat_minor": 2
}
