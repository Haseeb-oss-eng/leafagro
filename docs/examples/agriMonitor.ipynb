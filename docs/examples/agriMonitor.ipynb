{
 "cells": [
  {
   "cell_type": "code",
   "execution_count": 1,
   "metadata": {},
   "outputs": [],
   "source": [
    "import leafagro\n",
    "import requests\n",
    "#from leafagro.agromonitoring import Agromonitoring as ag"
   ]
  },
  {
   "cell_type": "code",
   "execution_count": 2,
   "metadata": {},
   "outputs": [
    {
     "name": "stdout",
     "output_type": "stream",
     "text": [
      "0.0.10\n"
     ]
    }
   ],
   "source": [
    "print(leafagro.__version__)"
   ]
  },
  {
   "cell_type": "code",
   "execution_count": 3,
   "metadata": {},
   "outputs": [],
   "source": [
    "m = leafagro.Map(center=[42.077744,-93.242726],zoom=13)"
   ]
  },
  {
   "cell_type": "code",
   "execution_count": 11,
   "metadata": {},
   "outputs": [],
   "source": [
    "API_Key = '9af75424f7e6305fafca369ba297fc7d'\n",
    "polygonId = '66e2d24e6419597e66d664fd'\n",
    "startDate = \"2020-02-01\"\n",
    "endDate = \"2020-03-01\"\n",
    "data = \"ndvi\""
   ]
  },
  {
   "cell_type": "code",
   "execution_count": 6,
   "metadata": {},
   "outputs": [
    {
     "data": {
      "application/vnd.jupyter.widget-view+json": {
       "model_id": "408d53e6342946beb85b92591f2f4e9d",
       "version_major": 2,
       "version_minor": 0
      },
      "text/plain": [
       "Map(bottom=778089.0, center=[42.077744, -93.242726], controls=(ZoomControl(options=['position', 'zoom_in_text'…"
      ]
     },
     "execution_count": 6,
     "metadata": {},
     "output_type": "execute_result"
    }
   ],
   "source": [
    "m.show_agromonitoring_tile(API_Key, polygonId, startDate, endDate, data,False)\n",
    "m"
   ]
  },
  {
   "cell_type": "code",
   "execution_count": 13,
   "metadata": {},
   "outputs": [],
   "source": [
    "API_Key = '9af75424f7e6305fafca369ba297fc7d'\n",
    "polygonId = '66e2d24e6419597e66d664fd'\n",
    "startDate = \"2020-02-01\"\n",
    "endDate = \"2020-03-01\"\n",
    "data = \"ndvi\""
   ]
  },
  {
   "cell_type": "code",
   "execution_count": 14,
   "metadata": {},
   "outputs": [
    {
     "ename": "NameError",
     "evalue": "name 'API_key' is not defined",
     "output_type": "error",
     "traceback": [
      "\u001b[1;31m---------------------------------------------------------------------------\u001b[0m",
      "\u001b[1;31mNameError\u001b[0m                                 Traceback (most recent call last)",
      "Cell \u001b[1;32mIn[14], line 1\u001b[0m\n\u001b[1;32m----> 1\u001b[0m m\u001b[38;5;241m.\u001b[39mdisplay_stats(\u001b[43mAPI_key\u001b[49m,polygonId,startDate,endDate,data)\n\u001b[0;32m      2\u001b[0m m\n",
      "\u001b[1;31mNameError\u001b[0m: name 'API_key' is not defined"
     ]
    }
   ],
   "source": [
    "# m.display_stats(API_key,polygonId,startDate,endDate,data)\n",
    "# m"
   ]
  },
  {
   "cell_type": "code",
   "execution_count": null,
   "metadata": {},
   "outputs": [],
   "source": []
  }
 ],
 "metadata": {
  "kernelspec": {
   "display_name": "Agro",
   "language": "python",
   "name": "python3"
  },
  "language_info": {
   "codemirror_mode": {
    "name": "ipython",
    "version": 3
   },
   "file_extension": ".py",
   "mimetype": "text/x-python",
   "name": "python",
   "nbconvert_exporter": "python",
   "pygments_lexer": "ipython3",
   "version": "3.11.10"
  }
 },
 "nbformat": 4,
 "nbformat_minor": 2
}
