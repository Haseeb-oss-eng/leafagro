{
 "cells": [
  {
   "cell_type": "code",
   "execution_count": 1,
   "metadata": {},
   "outputs": [],
   "source": [
    "import leafagro\n",
    "from ipyleaflet import WidgetControl\n",
    "import ipywidgets as widget"
   ]
  },
  {
   "cell_type": "code",
   "execution_count": 2,
   "metadata": {},
   "outputs": [],
   "source": [
    "widgetWidth = \"250px\"\n",
    "padding = \"0px 0px 0px 5px\"\n",
    "\n",
    "toolbar_button = widget.ToggleButton(\n",
    "    value = False,\n",
    "    tooltip = \"Toolbar\",\n",
    "    icon = \"wrench\",\n",
    "    layout = widget.Layout(width=\"28px\",height=\"28px\",padding=padding)\n",
    ")\n",
    "\n",
    "close_button = widget.ToggleButton(\n",
    "    value = False,\n",
    "    tooltip = \"Close the toolbar\",\n",
    "    icon = \"times\",\n",
    "    button_style = \"primary\",\n",
    "    layout = widget.Layout(width=\"28px\",height=\"28px\",padding=padding)\n",
    ")"
   ]
  },
  {
   "cell_type": "code",
   "execution_count": 3,
   "metadata": {},
   "outputs": [],
   "source": [
    "def toolbar_click(change):\n",
    "    if change['new']:\n",
    "        toolbar.children = [toolbar_button, close_button]\n",
    "    else:\n",
    "        toolbar.children = [toolbar_button]\n",
    "\n",
    "toolbar_button.observe(toolbar_click,\"value\")"
   ]
  },
  {
   "cell_type": "code",
   "execution_count": null,
   "metadata": {},
   "outputs": [],
   "source": [
    "def close_click(change):\n",
    "    if change['new']:\n",
    "        toolbar_button.close()\n",
    "        close_button.close()\n",
    "        toolbar.close()\n",
    "\n",
    "close_button.observe(close_click,\"value\")\n",
    "# toolbar"
   ]
  }
 ],
 "metadata": {
  "kernelspec": {
   "display_name": "Agro",
   "language": "python",
   "name": "python3"
  },
  "language_info": {
   "codemirror_mode": {
    "name": "ipython",
    "version": 3
   },
   "file_extension": ".py",
   "mimetype": "text/x-python",
   "name": "python",
   "nbconvert_exporter": "python",
   "pygments_lexer": "ipython3",
   "version": "3.11.10"
  }
 },
 "nbformat": 4,
 "nbformat_minor": 2
}
